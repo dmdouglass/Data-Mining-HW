{
 "cells": [
  {
   "cell_type": "code",
   "execution_count": 1,
   "metadata": {
    "collapsed": true
   },
   "outputs": [],
   "source": [
    "import sklearn\n",
    "from sklearn.ensemble import RandomForestClassifier\n",
    "import numpy as np\n",
    "import pandas as pd\n",
    "from sklearn.cluster import KMeans\n",
    "\n",
    "import random\n",
    "from scipy.spatial.distance import cdist\n",
    "from sklearn.preprocessing import Imputer\n",
    "from collections import defaultdict\n",
    "import itertools\n",
    "from sklearn.metrics.pairwise import cosine_similarity"
   ]
  },
  {
   "cell_type": "code",
   "execution_count": 2,
   "metadata": {
    "collapsed": false
   },
   "outputs": [],
   "source": [
    "df = pd.read_csv('allPatients copy.csv',low_memory=False)"
   ]
  },
  {
   "cell_type": "code",
   "execution_count": 3,
   "metadata": {
    "collapsed": true
   },
   "outputs": [],
   "source": [
    "X = df.drop('Classes',axis=1)\n",
    "features = X.columns\n",
    "X.replace(to_replace='?', value = 'NaN', inplace=True)\n",
    "imp = Imputer(missing_values='NaN', strategy='mean', axis=0)\n",
    "X=imp.fit_transform(X)\n",
    "Y = df['Classes']\n",
    "X = pd.DataFrame(X,columns=features)"
   ]
  },
  {
   "cell_type": "code",
   "execution_count": 13,
   "metadata": {
    "collapsed": false
   },
   "outputs": [
    {
     "data": {
      "text/plain": [
       "RandomForestClassifier(bootstrap=True, class_weight=None, criterion='entropy',\n",
       "            max_depth=None, max_features=100, max_leaf_nodes=None,\n",
       "            min_samples_leaf=1, min_samples_split=2,\n",
       "            min_weight_fraction_leaf=0.0, n_estimators=300, n_jobs=1,\n",
       "            oob_score=False, random_state=None, verbose=0,\n",
       "            warm_start=False)"
      ]
     },
     "execution_count": 13,
     "metadata": {},
     "output_type": "execute_result"
    }
   ],
   "source": [
    "clf = RandomForestClassifier(n_estimators=300, criterion = 'entropy', max_features = 100)\n",
    "clf.fit(X,Y)"
   ]
  },
  {
   "cell_type": "code",
   "execution_count": 14,
   "metadata": {
    "collapsed": false
   },
   "outputs": [],
   "source": [
    "freqFeatures = np.zeros(shape=(8560), dtype=int)\n",
    "for tree in clf:\n",
    "    for i in tree.tree_.feature:\n",
    "        if i !=-2:\n",
    "            freqFeatures[i] = freqFeatures[i]+1"
   ]
  },
  {
   "cell_type": "code",
   "execution_count": 15,
   "metadata": {
    "collapsed": false
   },
   "outputs": [],
   "source": [
    "mostFreqFeatures = np.argsort(freqFeatures)\n",
    "top200 = mostFreqFeatures[8360:8560]\n",
    "pd.DataFrame(top200).to_csv('/Users/Daniel/Documents/Data Mining 514/HW2/top200Features.csv')\n",
    "featureSelectedX = X.ix[:,top200]"
   ]
  },
  {
   "cell_type": "code",
   "execution_count": 16,
   "metadata": {
    "collapsed": false
   },
   "outputs": [],
   "source": [
    "def getClusterGroups(labels,data,k):\n",
    "    d = dict(); \n",
    "    for i in range(0,k):\n",
    "        d[\"cluster\"+str(i)] =  data.ix[np.nonzero(labels==i)]\n",
    "    return d\n",
    "\n",
    "def getDistances(clusters,distanceMeasure):\n",
    "    distDict = dict()\n",
    "    for cluster1 in itertools.combinations(clusters, 2):\n",
    "        dist = cdist(clusters[cluster1[0]],clusters[cluster1[1]], distanceMeasure)\n",
    "        n,m = dist.shape\n",
    "        distDict[cluster1[0]+\" \" +cluster1[1] + \" Single Link\"] = np.nanmin(dist)\n",
    "        distDict[cluster1[0]+\" \" +cluster1[1] + \" complete Link\"] = np.nanmax(dist)\n",
    "        dist = np.nan_to_num(dist)\n",
    "        distDict[cluster1[0]+\" \" + cluster1[1] + \" average\"] = sum(sum(dist))/(n*m)\n",
    "        distDict[cluster1[0] + \" \"+ cluster1[1] + \" centriod\"] = np.amax(cdist(pd.DataFrame(clusters[cluster1[0]].mean()).transpose(),pd.DataFrame(clusters[cluster1[1]].mean()).transpose(),distanceMeasure))\n",
    "    return distDict"
   ]
  },
  {
   "cell_type": "code",
   "execution_count": 17,
   "metadata": {
    "collapsed": true
   },
   "outputs": [],
   "source": [
    "estimatorsEuclidean = {'k_means_euclidean_2': KMeans(n_clusters=2).fit(featureSelectedX),\n",
    "              'k_means_euclidean_3': KMeans(n_clusters=3).fit(featureSelectedX),\n",
    "              'k_means_euclidean_4': KMeans(n_clusters=4).fit(featureSelectedX)}\n",
    "\n",
    "def new_euclidean_distances(X, Y=None, Y_norm_squared=None, squared=False): \n",
    "    return cosine_similarity(X,Y)\n",
    "\n",
    "# monkey patch (ensure cosine dist function is used)\n",
    "KMeans.euclidean_distances = new_euclidean_distances \n",
    "estimatorsDot = {'k_means_dot_2': KMeans(n_clusters=2).fit(featureSelectedX),\n",
    "              'k_means_dot_3': KMeans(n_clusters=3).fit(featureSelectedX),\n",
    "              'k_means_dot_4': KMeans(n_clusters=4).fit(featureSelectedX)}"
   ]
  },
  {
   "cell_type": "code",
   "execution_count": 18,
   "metadata": {
    "collapsed": false
   },
   "outputs": [],
   "source": [
    "for cluster in estimatorsEuclidean:\n",
    "    k = len(np.unique(estimatorsEuclidean[cluster].labels_))\n",
    "    groups = getClusterGroups(estimatorsEuclidean[cluster].labels_,featureSelectedX,len(np.unique(estimatorsEuclidean[cluster].labels_)))\n",
    "    dist = getDistances(groups,'euclidean')\n",
    "    pd.DataFrame([dist]).transpose().to_csv('/results/ResultsEuclideanK({0}).csv'.format(k))\n",
    "for cluster in estimatorsDot:\n",
    "    k = len(np.unique(estimatorsDot[cluster].labels_))\n",
    "    groups = getClusterGroups(estimatorsDot[cluster].labels_,featureSelectedX,k)\n",
    "    dist = getDistances(groups,'cosine')\n",
    "    pd.DataFrame([dist]).transpose().to_csv('/results/ResultsDotK({0}).csv'.format(k))\n"
   ]
  },
  {
   "cell_type": "code",
   "execution_count": null,
   "metadata": {
    "collapsed": true
   },
   "outputs": [],
   "source": []
  },
  {
   "cell_type": "code",
   "execution_count": null,
   "metadata": {
    "collapsed": true
   },
   "outputs": [],
   "source": []
  }
 ],
 "metadata": {
  "kernelspec": {
   "display_name": "Python 3",
   "language": "python",
   "name": "python3"
  },
  "language_info": {
   "codemirror_mode": {
    "name": "ipython",
    "version": 3
   },
   "file_extension": ".py",
   "mimetype": "text/x-python",
   "name": "python",
   "nbconvert_exporter": "python",
   "pygments_lexer": "ipython3",
   "version": "3.4.3"
  }
 },
 "nbformat": 4,
 "nbformat_minor": 1
}
