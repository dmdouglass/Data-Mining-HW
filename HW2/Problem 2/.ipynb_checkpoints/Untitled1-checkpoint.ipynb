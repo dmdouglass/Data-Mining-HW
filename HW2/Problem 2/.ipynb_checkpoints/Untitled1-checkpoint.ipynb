{
 "cells": [
  {
   "cell_type": "code",
   "execution_count": 34,
   "metadata": {
    "collapsed": true
   },
   "outputs": [],
   "source": [
    "import pandas as pd\n",
    "import numpy as np\n",
    "from sklearn.svm import SVC\n",
    "from sklearn.feature_selection import SelectFromModel"
   ]
  },
  {
   "cell_type": "code",
   "execution_count": 2,
   "metadata": {
    "collapsed": true
   },
   "outputs": [],
   "source": [
    "df = pd.read_csv('/Users/Daniel/Documents/Data Mining 514/HW1/problem5/allPatients.csv',low_memory=False)"
   ]
  },
  {
   "cell_type": "code",
   "execution_count": 3,
   "metadata": {
    "collapsed": true
   },
   "outputs": [],
   "source": [
    "X = df.drop('Classes',axis=1)\n",
    "X.replace(to_replace='?', value = 0, inplace=True)\n",
    "features = X.columns\n",
    "Y = df['Classes']"
   ]
  },
  {
   "cell_type": "code",
   "execution_count": 4,
   "metadata": {
    "collapsed": false
   },
   "outputs": [
    {
     "data": {
      "text/plain": [
       "SVC(C=20, cache_size=200, class_weight=None, coef0=0.0,\n",
       "  decision_function_shape=None, degree=3, gamma='auto', kernel='linear',\n",
       "  max_iter=-1, probability=False, random_state=None, shrinking=True,\n",
       "  tol=0.001, verbose=False)"
      ]
     },
     "execution_count": 4,
     "metadata": {},
     "output_type": "execute_result"
    }
   ],
   "source": [
    "clf = SVC(C=20, kernel ='linear')\n",
    "clf.fit(X,Y)"
   ]
  },
  {
   "cell_type": "code",
   "execution_count": null,
   "metadata": {
    "collapsed": true
   },
   "outputs": [],
   "source": [
    "clf = SVC(C=20, kernel ='linear')\n",
    "sfm = SelectFromModel(clf, threshold=0.25)\n",
    "sfm.fit(X, y)\n",
    "n_features = sfm.transform(X).shape[1]\n",
    "while n_features > 200:\n",
    "    sfm.threshold += 0.1\n",
    "    X_transform = sfm.transform(X)\n",
    "    n_features = X_transform.shape[1]"
   ]
  },
  {
   "cell_type": "code",
   "execution_count": 11,
   "metadata": {
    "collapsed": false
   },
   "outputs": [],
   "source": [
    "pred = clf.predict(X)\n",
    "topFeatures = clf.coef_.argsort()[-200:][::-1]"
   ]
  },
  {
   "cell_type": "code",
   "execution_count": 25,
   "metadata": {
    "collapsed": false
   },
   "outputs": [],
   "source": [
    "topFeatures = topFeatures[0][0:199]\n",
    "featureSelectedX = X.ix[:,topFeatures]"
   ]
  },
  {
   "cell_type": "code",
   "execution_count": 30,
   "metadata": {
    "collapsed": false
   },
   "outputs": [
    {
     "data": {
      "text/plain": [
       "SVC(C=20, cache_size=200, class_weight=None, coef0=0.0,\n",
       "  decision_function_shape=None, degree=2, gamma='auto', kernel='poly',\n",
       "  max_iter=-1, probability=False, random_state=None, shrinking=True,\n",
       "  tol=0.001, verbose=False)"
      ]
     },
     "execution_count": 30,
     "metadata": {},
     "output_type": "execute_result"
    }
   ],
   "source": [
    "clf = SVC(C=20, kernel ='poly', degree=2)\n",
    "clf.fit(featureSelectedX,Y)"
   ]
  },
  {
   "cell_type": "code",
   "execution_count": 33,
   "metadata": {
    "collapsed": false
   },
   "outputs": [
    {
     "data": {
      "text/plain": [
       "array([[-16.58542735,  -8.01005863, -20.        , -20.        ,\n",
       "        -20.        , -20.        ,  -4.93837061,  -0.6875139 ,\n",
       "         -8.48155145, -11.95370153, -20.        ,  -6.43788017,\n",
       "        -11.71383229, -15.0552104 , -20.        , -20.        ,\n",
       "        -12.65831056, -20.        , -13.82341726,  -7.30953841,\n",
       "        -18.69972418, -20.        , -18.37847171, -20.        ,\n",
       "         -4.95804673, -12.49263403, -17.17228034,  -6.82743192,\n",
       "        -20.        ,  -4.14903766, -11.67400535, -17.34544599,\n",
       "        -20.        ,  -4.18906528, -20.        ,  -5.3871565 ,\n",
       "         -6.22748616,  -3.22212299, -10.6241348 , -16.92002211,\n",
       "        -14.32803836,  -9.2558241 ,  -5.91711926,  -3.15832962,\n",
       "        -15.05810064,  -7.47474502, -11.2780786 , -20.        ,\n",
       "        -17.98254897, -20.        ,  -9.16107885, -20.        ,\n",
       "        -20.        , -20.        , -19.52243843,  -4.14467551,\n",
       "        -18.64560413, -18.40500746, -20.        , -20.        ,\n",
       "         -1.0362024 ,  -4.24534455, -10.34727568, -12.46709373,\n",
       "        -17.30198672,  -5.70704269, -18.59478401,  -5.30746954,\n",
       "         -1.33665441, -20.        , -20.        , -20.        ,\n",
       "        -20.        , -16.00753743, -20.        , -20.        ,\n",
       "        -17.6556673 ,  -8.40841605, -20.        , -20.        ,\n",
       "         -0.30288315,  -1.62252748, -20.        , -13.64873609,\n",
       "         -3.26798899, -11.58857735,  -7.31810158,  -6.84962512,\n",
       "        -17.08659962, -11.90385142, -10.33368623, -17.89554225,\n",
       "        -20.        ,  -9.3061651 , -11.05627902, -20.        ,\n",
       "         -1.41273333, -20.        , -20.        , -20.        ,\n",
       "         -6.18587806, -18.96152602,  -3.38479588,  -9.65327462,\n",
       "        -20.        , -20.        , -20.        , -20.        ,\n",
       "        -20.        , -14.25785006, -16.46586551, -20.        ,\n",
       "        -11.38382141,  -8.33336797, -12.64555951,  -1.83459336,\n",
       "         -1.45157377, -12.17982041, -20.        , -20.        ,\n",
       "         -4.07792504,  -5.95990364,  -6.81142405,  -6.19188567,\n",
       "        -12.27966433, -20.        ,  -8.13734975,  -7.85797092,\n",
       "         -6.75225069, -10.46054496, -20.        , -17.62735074,\n",
       "        -20.        ,  -6.99700992, -20.        , -12.85863976,\n",
       "        -11.66394882,  -9.09361993, -18.83747304, -12.58072632,\n",
       "        -13.83069401, -15.53452677, -20.        ,  -0.609007  ,\n",
       "         -0.12400101,  -3.89360964,  -2.66332356,  -0.90800744,\n",
       "         -7.66307267,  -6.34298112,  -4.27757623,  -6.94297484,\n",
       "        -20.        , -20.        , -20.        ,  -5.4023541 ,\n",
       "         -9.59600869,  -8.83702009,  -6.41935742, -10.03453592,\n",
       "         -5.56928642,  -2.13549076, -20.        , -20.        ,\n",
       "         -8.05232588,  -0.64199764,  -8.82212517,  -8.94969736,\n",
       "         -0.42590495, -13.00200711, -10.31608549,  -8.41895982,\n",
       "         -8.99378996, -10.91012913, -20.        ,  20.        ,\n",
       "          5.73182741,  15.46403825,   3.30197737,  15.25804504,\n",
       "         13.25672927,   6.65702101,  17.69820157,  20.        ,\n",
       "         20.        ,  12.39168853,   5.17547497,  20.        ,\n",
       "         10.7720298 ,  20.        ,  12.25426583,  20.        ,\n",
       "         14.68821982,  20.        ,  13.4413129 ,  20.        ,\n",
       "          1.42110385,   8.35254836,  20.        ,  15.00645039,\n",
       "         20.        ,   8.53492383,   2.51247057,  20.        ,\n",
       "         13.77319617,  15.04211662,   9.25453396,  17.72184382,\n",
       "         20.        ,  20.        ,  20.        ,  20.        ,\n",
       "         15.99138498,  20.        ,  20.        ,   4.46143794,\n",
       "         17.29915543,  20.        ,   2.23538314,  20.        ,\n",
       "          9.23718096,  20.        ,  13.22282845,  20.        ,\n",
       "         20.        ,  20.        ,   6.34480923,   2.91088654,\n",
       "         20.        ,  13.61532913,  20.        ,   8.22974555,\n",
       "         20.        ,   5.63847363,   0.50451091,  20.        ,\n",
       "         20.        ,   6.27364221,  20.        ,   1.73895649,\n",
       "         20.        ,   9.77317177,   1.29207802,  20.        ,\n",
       "          5.76083674,  11.68033956,  20.        ,  20.        ,\n",
       "         14.5129984 ,  20.        ,   9.53035661,   8.28414371,\n",
       "         20.        ,   0.42558588,  20.        ,  20.        ,\n",
       "         20.        ,   7.52877463,   4.39739814,   8.26034086,\n",
       "         20.        ,   3.36404579,  13.73776256,   5.19840567,\n",
       "          7.19944008,  14.983321  ,  14.45498652,  20.        ,\n",
       "         14.74576547,  10.29786252,   9.45197212,  20.        ,\n",
       "         20.        ,  10.80845207,   1.64739789,  20.        ,\n",
       "         20.        ,  20.        ,  17.6794922 ,   6.63770997,\n",
       "          4.18689518,   4.20001402,  20.        ,  20.        ,\n",
       "         20.        ,   8.09988861,  20.        ,   7.49137904,\n",
       "          5.01346583,  20.        ,   2.56184063,   2.1164295 ,\n",
       "         20.        ,   2.17492181,  20.        ,  20.        ,\n",
       "         18.81594106,  20.        ,   7.05870789,  14.47748269,\n",
       "         11.60281397,   3.00413625,  20.        ,  13.36455038,\n",
       "         20.        ,  20.        ,   6.91739033,  19.48516236,\n",
       "         20.        ,  17.56144761,  14.54452443,  16.66203532,\n",
       "          1.6811632 ,   0.33997757,   7.77919373,  20.        ,\n",
       "          6.01972585,  17.80878505,   7.66048377,  19.22726648,\n",
       "          7.59212066,  11.29439076,   1.73937141,   9.05813577,\n",
       "         20.        ,   2.77342207,  20.        ,  10.23693667,\n",
       "         20.        ,   2.61397429,  12.96608785,  12.44218997,\n",
       "         18.73817314,  20.        ,  20.        ,  10.12789554,  20.        ]])"
      ]
     },
     "execution_count": 33,
     "metadata": {},
     "output_type": "execute_result"
    }
   ],
   "source": [
    "clf.dual_coef_"
   ]
  },
  {
   "cell_type": "code",
   "execution_count": null,
   "metadata": {
    "collapsed": true
   },
   "outputs": [],
   "source": []
  }
 ],
 "metadata": {
  "kernelspec": {
   "display_name": "Python 3",
   "language": "python",
   "name": "python3"
  },
  "language_info": {
   "codemirror_mode": {
    "name": "ipython",
    "version": 3
   },
   "file_extension": ".py",
   "mimetype": "text/x-python",
   "name": "python",
   "nbconvert_exporter": "python",
   "pygments_lexer": "ipython3",
   "version": "3.4.3"
  }
 },
 "nbformat": 4,
 "nbformat_minor": 1
}
