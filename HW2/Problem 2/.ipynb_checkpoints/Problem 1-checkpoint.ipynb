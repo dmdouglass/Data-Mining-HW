{
 "cells": [
  {
   "cell_type": "code",
   "execution_count": 74,
   "metadata": {
    "collapsed": false
   },
   "outputs": [],
   "source": [
    "import numpy as np\n",
    "from sklearn import mixture\n",
    "from math import log"
   ]
  },
  {
   "cell_type": "code",
   "execution_count": 56,
   "metadata": {
    "collapsed": false
   },
   "outputs": [
    {
     "data": {
      "text/plain": [
       "array([[ 43.30578194],\n",
       "       [ 15.50703948]])"
      ]
     },
     "execution_count": 56,
     "metadata": {},
     "output_type": "execute_result"
    }
   ],
   "source": [
    "X = [[35], [41], [21], [20], [17], [55], [12], [33], [15], [18], [4], [51], [17], [46]]\n",
    "X1 = [35, 41, 21, 20, 17, 55, 12, 33, 15, 18, 4, 51, 17, 46]\n",
    "gmm = mixture.GMM(2).fit(X)\n",
    "gmm.means_"
   ]
  },
  {
   "cell_type": "code",
   "execution_count": 41,
   "metadata": {
    "collapsed": false
   },
   "outputs": [],
   "source": [
    "def computeProbability(x,std,mu):\n",
    "    return(np.exp(-1*(x-mu)**2/(2*std**2))/(np.sqrt(2*np.pi*std**2)))\n",
    "    "
   ]
  },
  {
   "cell_type": "code",
   "execution_count": 124,
   "metadata": {
    "collapsed": false
   },
   "outputs": [],
   "source": [
    "p = [.5,.5]\n",
    "Mu = [32,40]\n",
    "std = [7,5]\n",
    "N = len(X1)\n",
    "N1 = np.zeros(N)\n",
    "N2 = np.zeros(N)\n",
    "prevLogLikelihood= 10000\n",
    "NewlogLikelihood = 0\n",
    "while abs(prevLogLikelihood -NewlogLikelihood)>.001 :\n",
    "    prevLogLikelihood = NewlogLikelihood\n",
    "    for j in range(0,N):\n",
    "        x = X1[j]\n",
    "        N1[j] = computeProbability(x,std[0],Mu[0])*p[0]/(computeProbability(x,std[0],Mu[0])*p[0]+computeProbability(x,std[1],Mu[1])*p[1])\n",
    "        N2[j] = 1 - N1[j]\n",
    "    p = [sum(N1)/N,sum(N2)/N]\n",
    "    Mu = [np.dot(N1,X1)/sum(N1),np.dot(N2,X1)/sum(N2)]\n",
    "    NewlogLikelihood = sum([log(y,10) for y in N1]) + sum([log(y,10) for y in N2])\n",
    "    xsqtemp1 = np.square([x - Mu[0] for x in X1])\n",
    "    xsqtemp2 = np.square([x - Mu[1] for x in X1])\n",
    "    std = [np.sqrt(np.dot(N1,xsqtemp1)/sum(N1)), np.sqrt(np.dot(N2,xsqtemp2)/sum(N2))]\n"
   ]
  },
  {
   "cell_type": "code",
   "execution_count": 126,
   "metadata": {
    "collapsed": false
   },
   "outputs": [
    {
     "data": {
      "text/plain": [
       "[15.514502065127736, 43.352861308086347]"
      ]
     },
     "execution_count": 126,
     "metadata": {},
     "output_type": "execute_result"
    }
   ],
   "source": [
    "Mu"
   ]
  },
  {
   "cell_type": "markdown",
   "metadata": {},
   "source": [
    "xtemp = [[x - Mu[0] for x in X1], [x - Mu[1] for x in X1]]\n",
    "xtemp"
   ]
  },
  {
   "cell_type": "code",
   "execution_count": null,
   "metadata": {
    "collapsed": true
   },
   "outputs": [],
   "source": []
  }
 ],
 "metadata": {
  "kernelspec": {
   "display_name": "Python 3",
   "language": "python",
   "name": "python3"
  },
  "language_info": {
   "codemirror_mode": {
    "name": "ipython",
    "version": 3
   },
   "file_extension": ".py",
   "mimetype": "text/x-python",
   "name": "python",
   "nbconvert_exporter": "python",
   "pygments_lexer": "ipython3",
   "version": "3.4.3"
  }
 },
 "nbformat": 4,
 "nbformat_minor": 1
}
