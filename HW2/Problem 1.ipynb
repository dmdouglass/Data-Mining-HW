{
 "cells": [
  {
   "cell_type": "code",
   "execution_count": 4,
   "metadata": {
    "collapsed": false
   },
   "outputs": [],
   "source": [
    "import numpy as np\n",
    "from sklearn import mixture\n",
    "from math import log"
   ]
  },
  {
   "cell_type": "code",
   "execution_count": 5,
   "metadata": {
    "collapsed": false
   },
   "outputs": [
    {
     "data": {
      "text/plain": [
       "array([[ 43.30578194],\n",
       "       [ 15.50703948]])"
      ]
     },
     "execution_count": 5,
     "metadata": {},
     "output_type": "execute_result"
    }
   ],
   "source": [
    "X = [[35], [41], [21], [20], [17], [55], [12], [33], [15], [18], [4], [51], [17], [46]]\n",
    "gmm = mixture.GMM(2,n_init=100).fit(X)\n",
    "gmm.means_"
   ]
  },
  {
   "cell_type": "code",
   "execution_count": 3,
   "metadata": {
    "collapsed": false
   },
   "outputs": [
    {
     "data": {
      "text/plain": [
       "{'converged_': True,\n",
       " 'covariance_type': 'diag',\n",
       " 'covars_': array([[ 26.37059923],\n",
       "        [ 68.50908112]]),\n",
       " 'init_params': 'wmc',\n",
       " 'means_': array([[ 15.50703948],\n",
       "        [ 43.30578194]]),\n",
       " 'min_covar': 0.001,\n",
       " 'n_components': 2,\n",
       " 'n_init': 1,\n",
       " 'n_iter': 100,\n",
       " 'params': 'wmc',\n",
       " 'random_state': None,\n",
       " 'thresh': None,\n",
       " 'tol': 0.001,\n",
       " 'verbose': 0,\n",
       " 'weights_': array([ 0.56857903,  0.43142097])}"
      ]
     },
     "execution_count": 3,
     "metadata": {},
     "output_type": "execute_result"
    }
   ],
   "source": [
    "gmm.covars_\n"
   ]
  },
  {
   "cell_type": "code",
   "execution_count": 83,
   "metadata": {
    "collapsed": false
   },
   "outputs": [],
   "source": [
    "def computeProbability(x,Std,Mu):\n",
    "    return(np.exp(-1*(x-Mu)**2/(2*Std**2))/(np.sqrt(2*np.pi*Std**2)))\n",
    "    "
   ]
  },
  {
   "cell_type": "code",
   "execution_count": 101,
   "metadata": {
    "collapsed": false
   },
   "outputs": [],
   "source": [
    "def computeGaussianMixtureModel(X1,mu,std,p):    \n",
    "    N = len(X1)\n",
    "    N1 = np.zeros(N)\n",
    "    N2 = np.zeros(N)    \n",
    "    prevLogLikelihood= 10000\n",
    "    NewlogLikelihood = 0\n",
    "    while abs(prevLogLikelihood -NewlogLikelihood)>.001 :\n",
    "        prevLogLikelihood = NewlogLikelihood\n",
    "        for j in range(0,N):\n",
    "            x = X1[j]\n",
    "            N1[j] = computeProbability(x,std[0],mu[0])*p[0]/(computeProbability(x,std[0],mu[0])*p[0]+computeProbability(x,std[1],mu[1])*p[1])\n",
    "            N2[j] = 1 - N1[j]\n",
    "        p = [sum(N1)/N,sum(N2)/N]\n",
    "        mu = [np.dot(N1,X)/sum(N1),np.dot(N2,X)/sum(N2)]\n",
    "        NewlogLikelihood = sum([log(y,10) for y in N1]) + sum([log(y,10) for y in N2])\n",
    "        xsqtemp1 = np.square([x - mu[0] for x in X1])\n",
    "        xsqtemp2 = np.square([x - mu[1] for x in X1])\n",
    "        std = [np.sqrt(np.dot(N1,xsqtemp1)/sum(N1)), np.sqrt(np.dot(N2,xsqtemp2)/sum(N2))]\n",
    "    return mu,std,p"
   ]
  },
  {
   "cell_type": "code",
   "execution_count": 102,
   "metadata": {
    "collapsed": true
   },
   "outputs": [
    {
     "data": {
      "text/plain": [
       "([array([ 15.51450694]), array([ 43.35288398])],\n",
       " [array([ 5.13739488]), array([ 8.21745879])],\n",
       " [0.56946150117923078, 0.43053849882076917])"
      ]
     },
     "execution_count": 102,
     "metadata": {},
     "output_type": "execute_result"
    }
   ],
   "source": [
    "X1 = [35, 41, 21, 20, 17, 55, 12, 33, 15, 18, 4, 51, 17, 46]\n",
    "p = [.7,.3]\n",
    "Mu = [32,40]\n",
    "std = [7,5]\n",
    "computeGaussianMixtureModel(X1,Mu,std,p)  \n",
    "\n"
   ]
  },
  {
   "cell_type": "code",
   "execution_count": 109,
   "metadata": {
    "collapsed": true
   },
   "outputs": [
    {
     "data": {
      "text/plain": [
       "([array([ 15.51449538]), array([ 43.35282842])],\n",
       " [array([ 5.13738752]), array([ 8.21752672])],\n",
       " [0.56946040538464371, 0.43053959461535635])"
      ]
     },
     "execution_count": 109,
     "metadata": {},
     "output_type": "execute_result"
    }
   ],
   "source": [
    "p = [.4,.6]\n",
    "Mu = [39,45]\n",
    "std = [4,5]\n",
    "computeGaussianMixtureModel(X1,Mu,std,p)  "
   ]
  },
  {
   "cell_type": "markdown",
   "metadata": {},
   "source": [
    "xtemp = [[x - Mu[0] for x in X1], [x - Mu[1] for x in X1]]\n",
    "xtemp"
   ]
  },
  {
   "cell_type": "code",
   "execution_count": 110,
   "metadata": {
    "collapsed": true
   },
   "outputs": [
    {
     "data": {
      "text/plain": [
       "([array([ 15.51450355]), array([ 43.3528695])],\n",
       " [array([ 5.1373923]), array([ 8.21747615])],\n",
       " [0.56946120786151355, 0.4305387921384865])"
      ]
     },
     "execution_count": 110,
     "metadata": {},
     "output_type": "execute_result"
    }
   ],
   "source": [
    "p = [.1,.9]\n",
    "Mu = [10,45]\n",
    "std = [4,5]\n",
    "computeGaussianMixtureModel(X1,Mu,std,p)  "
   ]
  },
  {
   "cell_type": "code",
   "execution_count": null,
   "metadata": {
    "collapsed": true
   },
   "outputs": [],
   "source": []
  }
 ],
 "metadata": {
  "kernelspec": {
   "display_name": "Python 3",
   "language": "python",
   "name": "python3"
  },
  "language_info": {
   "codemirror_mode": {
    "name": "ipython",
    "version": 3
   },
   "file_extension": ".py",
   "mimetype": "text/x-python",
   "name": "python",
   "nbconvert_exporter": "python",
   "pygments_lexer": "ipython3",
   "version": "3.4.3"
  }
 },
 "nbformat": 4,
 "nbformat_minor": 1
}
