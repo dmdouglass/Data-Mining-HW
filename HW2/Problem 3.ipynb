{
 "cells": [
  {
   "cell_type": "code",
   "execution_count": 18,
   "metadata": {
    "collapsed": false
   },
   "outputs": [],
   "source": [
    "import sklearn\n",
    "from sklearn.ensemble import RandomForestClassifier\n",
    "import numpy as np\n",
    "import pandas as pd\n",
    "from sklearn.cluster import KMeans\n",
    "import random\n",
    "from sklearn.preprocessing import Imputer\n",
    "from sklearn.preprocessing import PolynomialFeatures\n",
    "import pandas as pd\n",
    "import numpy as np\n",
    "from sklearn.svm import SVC\n",
    "from sklearn.feature_selection import SelectFromModel"
   ]
  },
  {
   "cell_type": "code",
   "execution_count": 19,
   "metadata": {
    "collapsed": true
   },
   "outputs": [],
   "source": [
    "df = pd.read_csv('/Users/Daniel/Documents/Data Mining 514/HW1/problem5/allPatients.csv',low_memory=False)\n",
    "X = df.drop('Classes',axis=1)\n",
    "features = X.columns\n",
    "X.replace(to_replace='?', value = 'NaN', inplace=True)\n",
    "imp = Imputer(missing_values='NaN', strategy='mean', axis=0)\n",
    "X=imp.fit_transform(X)\n",
    "Y = df['Classes']\n",
    "X = pd.DataFrame(X,columns=features)"
   ]
  },
  {
   "cell_type": "code",
   "execution_count": 20,
   "metadata": {
    "collapsed": false
   },
   "outputs": [],
   "source": [
    "#fit linear svm determine\n",
    "clf = SVC(kernel ='linear')\n",
    "clf.fit(X,Y)\n",
    "clf.score(X,Y)\n",
    "bestFeatures = abs(clf.coef_[0]).argsort()[::-1][:200]\n",
    "topFeatures = pd.DataFrame(X.columns).ix[bestFeatures]\n",
    "topFeatures.to_csv('/Users/Daniel/Documents/Data Mining 514/HW2/top200Featureslinear.csv')\n",
    "# get top 100 feature"
   ]
  },
  {
   "cell_type": "code",
   "execution_count": 21,
   "metadata": {
    "collapsed": true
   },
   "outputs": [],
   "source": [
    "def get_feature_names(self, input_features=None):\n",
    "        \"\"\"\n",
    "        Return feature names for output features\n",
    "        Parameters\n",
    "        ----------\n",
    "        input_features : list of string, length n_features, optional\n",
    "            String names for input features if available. By default,\n",
    "            \"x0\", \"x1\", ... \"xn_features\" is used.\n",
    "        Returns\n",
    "        -------\n",
    "        output_feature_names : list of string, length n_output_features\n",
    "        \"\"\"\n",
    "        powers = self.powers_\n",
    "        if input_features is None:\n",
    "            input_features = ['x%d' % i for i in range(powers.shape[1])]\n",
    "        feature_names = []\n",
    "        for row in powers:\n",
    "            inds = np.where(row)[0]\n",
    "            if len(inds):\n",
    "                name = \" \".join(\"%s^%d\" % (input_features[ind], exp)\n",
    "                                if exp != 1 else input_features[ind]\n",
    "                                for ind, exp in zip(inds, row[inds]))\n",
    "            else:\n",
    "                name = \"1\"\n",
    "            feature_names.append(name)\n",
    "        return feature_names"
   ]
  },
  {
   "cell_type": "code",
   "execution_count": 23,
   "metadata": {
    "collapsed": false
   },
   "outputs": [],
   "source": [
    "top100 = pd.read_csv('/Users/Daniel/Documents/Data Mining 514/HW2/top100Features.csv')\n",
    "featureSelectedX = X.ix[:,top100.ix[:,1]]\n",
    "\n",
    "poly = PolynomialFeatures(2)\n",
    "#f = poly.get_feature_names(featureSelectedX.columns)\n",
    "Xpoly = poly.fit_transform(featureSelectedX)\n",
    "names = get_feature_names(poly,featureSelectedX.columns)"
   ]
  },
  {
   "cell_type": "code",
   "execution_count": 24,
   "metadata": {
    "collapsed": false
   },
   "outputs": [],
   "source": [
    "clf = SVC(kernel ='linear')\n",
    "clf.fit(Xpoly,Y)\n",
    "clf.coef_[0]\n",
    "bestFeatures = abs(clf.coef_[0]).argsort()[::-1][:200]\n",
    "topFeatures = pd.DataFrame(names).ix[bestFeatures]"
   ]
  },
  {
   "cell_type": "code",
   "execution_count": 25,
   "metadata": {
    "collapsed": false
   },
   "outputs": [],
   "source": [
    "topFeatures.to_csv('/Users/Daniel/Documents/Data Mining 514/HW2/top200FeaturesPolynomial.csv')"
   ]
  },
  {
   "cell_type": "code",
   "execution_count": null,
   "metadata": {
    "collapsed": true
   },
   "outputs": [],
   "source": []
  }
 ],
 "metadata": {
  "kernelspec": {
   "display_name": "Python 3",
   "language": "python",
   "name": "python3"
  },
  "language_info": {
   "codemirror_mode": {
    "name": "ipython",
    "version": 3
   },
   "file_extension": ".py",
   "mimetype": "text/x-python",
   "name": "python",
   "nbconvert_exporter": "python",
   "pygments_lexer": "ipython3",
   "version": "3.4.3"
  }
 },
 "nbformat": 4,
 "nbformat_minor": 1
}
