{
 "cells": [
  {
   "cell_type": "code",
   "execution_count": null,
   "metadata": {
    "collapsed": true
   },
   "outputs": [],
   "source": [
    "import pandas as pd\n",
    "import numpy as np\n",
    "import matplotlib.pyplot as plt\n",
    "from sklearn.decomposition import TruncatedSVD as sklearnSVD\n",
    "from sklearn.cluster import KMeans\n",
    "from scipy.stats.stats import pearsonr\n",
    "\n",
    "def new_euclidean_distances(X, Y=None, Y_norm_squared=None, squared=False): \n",
    "    return pearsonr(X,Y)\n",
    "KMeans.euclidean_distances = new_euclidean_distances "
   ]
  },
  {
   "cell_type": "code",
   "execution_count": null,
   "metadata": {
    "collapsed": false
   },
   "outputs": [],
   "source": [
    "df = pd.read_csv('/Users/Daniel/Documents/Data Mining 514/HW3/allPatientsKnnImputedData.csv',low_memory=False)\n",
    "X = df.drop('Classes',axis=1)\n",
    "features = X.columns\n",
    "#X.replace(to_replace='?', value = 'NaN', inplace=True)\n",
    "#imp = Imputer(missing_values='NaN', strategy='mean', axis=0)\n",
    "#X=imp.fit_transform(X)\n",
    "Y = df['Classes']\n",
    "X = pd.DataFrame(X,columns=features)"
   ]
  },
  {
   "cell_type": "code",
   "execution_count": null,
   "metadata": {
    "collapsed": false
   },
   "outputs": [],
   "source": [
    "results = np.zeros(18)\n",
    "for i in range(0,18):\n",
    "    sklearn_SVD = sklearnSVD(n_components=(i+2))\n",
    "    sklearn_transf = sklearn_SVD.fit_transform(X)\n",
    "    estimators = KMeans(n_clusters=2).fit(sklearn_transf)\n",
    "    results[i] = max(sum(abs((estimators.labels_+1)- Y.as_matrix()))/len(Y),1-sum(abs((estimators.labels_+1)- Y.as_matrix()))/len(Y))"
   ]
  },
  {
   "cell_type": "code",
   "execution_count": null,
   "metadata": {
    "collapsed": false
   },
   "outputs": [],
   "source": [
    "plt.plot(np.linspace(2,18,18),results,'o')\n",
    "plt.ylabel('Percent Accuracy')\n",
    "plt.xlabel('Number of features in SVD space')\n",
    "plt.title('Accuracy vs. Number of features in SVD space')\n",
    "plt.show()"
   ]
  },
  {
   "cell_type": "code",
   "execution_count": null,
   "metadata": {
    "collapsed": false
   },
   "outputs": [],
   "source": [
    "plt.plot(np.linspace(1,len(estimators.explained_variance_),len(sklearnSVD.fit(X).explained_variance_)),estimators.explained_variance_,'o')"
   ]
  },
  {
   "cell_type": "code",
   "execution_count": null,
   "metadata": {
    "collapsed": false
   },
   "outputs": [],
   "source": [
    "sklearn_SVD = sklearnSVD(n_components = 40)\n",
    "sklearn_SVD.fit(X)\n",
    "sklearn_SVD.explained_variance_\n",
    "plt.plot(np.linspace(1,len(sklearn_SVD.explained_variance_),len(sklearn_SVD.explained_variance_)),sklearn_SVD.explained_variance_,'o')"
   ]
  },
  {
   "cell_type": "code",
   "execution_count": null,
   "metadata": {
    "collapsed": false
   },
   "outputs": [],
   "source": [
    "plt.show()"
   ]
  },
  {
   "cell_type": "code",
   "execution_count": null,
   "metadata": {
    "collapsed": true
   },
   "outputs": [],
   "source": []
  },
  {
   "cell_type": "code",
   "execution_count": null,
   "metadata": {
    "collapsed": true
   },
   "outputs": [],
   "source": []
  },
  {
   "cell_type": "code",
   "execution_count": null,
   "metadata": {
    "collapsed": true
   },
   "outputs": [],
   "source": []
  },
  {
   "cell_type": "code",
   "execution_count": null,
   "metadata": {
    "collapsed": true
   },
   "outputs": [],
   "source": []
  }
 ],
 "metadata": {
  "kernelspec": {
   "display_name": "Python 3",
   "language": "python",
   "name": "python3"
  },
  "language_info": {
   "codemirror_mode": {
    "name": "ipython",
    "version": 3
   },
   "file_extension": ".py",
   "mimetype": "text/x-python",
   "name": "python",
   "nbconvert_exporter": "python",
   "pygments_lexer": "ipython3",
   "version": "3.4.3"
  }
 },
 "nbformat": 4,
 "nbformat_minor": 1
}
