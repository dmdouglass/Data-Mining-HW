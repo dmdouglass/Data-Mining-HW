{
 "cells": [
  {
   "cell_type": "code",
   "execution_count": null,
   "metadata": {
    "collapsed": true
   },
   "outputs": [],
   "source": [
    "import pandas as pd\n",
    "import numpy as np\n",
    "import matplotlib.pyplot as plt\n",
    "from sklearn.preprocessing import Imputer\n",
    "from sklearn.cluster import KMeans\n",
    "from scipy.stats.stats import pearsonr"
   ]
  },
  {
   "cell_type": "code",
   "execution_count": null,
   "metadata": {
    "collapsed": false
   },
   "outputs": [],
   "source": [
    "df = pd.read_csv('allPatientsKnnImputedData.csv',low_memory=False)\n",
    "X = df.drop('Classes',axis=1)\n",
    "features = X.columns\n",
    "#X.replace(to_replace='?', value = 'NaN', inplace=True)\n",
    "#imp = Imputer(missing_values='NaN', strategy='mean', axis=0)\n",
    "#X=imp.fit_transform(X)\n",
    "Y = df['Classes']\n",
    "X = pd.DataFrame(X,columns=features)"
   ]
  },
  {
   "cell_type": "code",
   "execution_count": null,
   "metadata": {
    "collapsed": false
   },
   "outputs": [],
   "source": [
    "#get covariance matrix, eigenvalues and eigenvectors\n",
    "covMatrix  = X.cov()\n",
    "w,v = np.linalg.eig(covMatrix)\n",
    "wOrdered = sorted(w,reverse=True)\n"
   ]
  },
  {
   "cell_type": "code",
   "execution_count": null,
   "metadata": {
    "collapsed": false
   },
   "outputs": [],
   "source": [
    "#plot eigenvalues\n",
    "f, axarr = plt.subplots(2, sharex=False)\n",
    "axarr[0].plot(np.linspace(1,20,20),wOrdered[:20],'o')\n",
    "axarr[0].set_title('Top 20 Eigenvalues')\n",
    "#axarr[1].set_title('All Eigenvalues')\n",
    "axarr[1].plot(np.linspace(1,len(wOrdered),len(wOrdered)),wOrdered,'o')\n",
    "plt.show()"
   ]
  },
  {
   "cell_type": "code",
   "execution_count": null,
   "metadata": {
    "collapsed": false
   },
   "outputs": [],
   "source": [
    "wOrderedPercent =wOrdered/sum(wOrdered)\n",
    "f, axarr = plt.subplots(2, sharex=False)\n",
    "axarr[0].plot(np.linspace(1,20,20),wOrderedPercent[:20],'o')\n",
    "axarr[0].set_title('Top 20 Eigenvalues')\n",
    "axarr[0].set_ylabel('Percent variation explained by eigenvectors')\n",
    "#axarr[1].set_ylabel('Percent variation explained by eigenvectors')\n",
    "#axarr[1].set_title('All Eigenvalues')\n",
    "axarr[1].plot(np.linspace(1,len(wOrderedPercent),len(wOrderedPercent)),wOrderedPercent,'o')\n",
    "plt.show()                        "
   ]
  },
  {
   "cell_type": "code",
   "execution_count": null,
   "metadata": {
    "collapsed": false
   },
   "outputs": [],
   "source": [
    "eig_pairs = [(np.abs(w[i]), v[:,i]) for i in range(len(w))]\n",
    "eig_pairs.sort(key=lambda x: x[0], reverse=True)\n",
    "eigenvectorsSorted = [x[1] for x in eig_pairs]\n",
    "eigenvectorsSorted[:4]"
   ]
  },
  {
   "cell_type": "code",
   "execution_count": null,
   "metadata": {
    "collapsed": false
   },
   "outputs": [],
   "source": [
    "def new_euclidean_distances(X, Y=None, Y_norm_squared=None, squared=False): \n",
    "    return pearsonr(X,Y)\n",
    "KMeans.euclidean_distances = new_euclidean_distances \n",
    "results = np.zeros(18)\n",
    "for i in range(0,18):\n",
    "    eig = eigenvectorsSorted[:(i+2)]\n",
    "    estimators = KMeans(n_clusters=2).fit(X.dot(np.asarray(eig).T))\n",
    "    results[i] = max(sum(abs((estimators.labels_+1)- Y.as_matrix()))/len(Y),1-sum(abs((estimators.labels_+1)- Y.as_matrix()))/len(Y))"
   ]
  },
  {
   "cell_type": "code",
   "execution_count": null,
   "metadata": {
    "collapsed": false
   },
   "outputs": [],
   "source": [
    "plt.plot(np.linspace(2,18,18),results,'o')\n",
    "plt.ylabel('Percent Accuracy')\n",
    "plt.xlabel('Number of PCA variables')\n",
    "plt.title('Accuracy vs. Number of PCA variables')"
   ]
  },
  {
   "cell_type": "code",
   "execution_count": null,
   "metadata": {
    "collapsed": false
   },
   "outputs": [],
   "source": [
    "plt.show()"
   ]
  },
  {
   "cell_type": "code",
   "execution_count": null,
   "metadata": {
    "collapsed": false
   },
   "outputs": [],
   "source": [
    "from sklearn.decomposition import PCA as sklearnPCA\n",
    "results = np.zeros(18)\n",
    "for i in range(0,18):\n",
    "    sklearn_pca = sklearnPCA(n_components=(i+2))\n",
    "    sklearn_transf = sklearn_pca.fit_transform(X)\n",
    "    estimators = KMeans(n_clusters=2).fit(sklearn_transf)\n",
    "    results[i] = max(sum(abs((estimators.labels_+1)- Y.as_matrix()))/len(Y),1-sum(abs((estimators.labels_+1)- Y.as_matrix()))/len(Y))"
   ]
  },
  {
   "cell_type": "code",
   "execution_count": null,
   "metadata": {
    "collapsed": false
   },
   "outputs": [],
   "source": [
    "plt.plot(np.linspace(2,18,18),results,'o')\n",
    "plt.ylabel('Percent Accuracy')\n",
    "plt.xlabel('Number of PCA variables')\n",
    "plt.title('Accuracy vs. Number of PCA variables')\n",
    "plt.show()"
   ]
  }
 ],
 "metadata": {
  "kernelspec": {
   "display_name": "Python 3",
   "language": "python",
   "name": "python3"
  },
  "language_info": {
   "codemirror_mode": {
    "name": "ipython",
    "version": 3
   },
   "file_extension": ".py",
   "mimetype": "text/x-python",
   "name": "python",
   "nbconvert_exporter": "python",
   "pygments_lexer": "ipython3",
   "version": "3.4.3"
  }
 },
 "nbformat": 4,
 "nbformat_minor": 1
}
