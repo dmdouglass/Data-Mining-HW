{
 "cells": [
  {
   "cell_type": "code",
   "execution_count": 1,
   "metadata": {
    "collapsed": true
   },
   "outputs": [],
   "source": [
    "import pandas as pd\n",
    "import numpy as np\n",
    "import knnimpute as knnImp\n",
    "from sklearn.cluster import AgglomerativeClustering\n",
    "from sklearn.cluster import KMeans"
   ]
  },
  {
   "cell_type": "code",
   "execution_count": 2,
   "metadata": {
    "collapsed": false
   },
   "outputs": [],
   "source": [
    "caseDf = pd.read_csv('case.csv',low_memory=False)\n",
    "ctrlDf = pd.read_csv('ctrl.csv',low_memory=False)\n",
    "\n",
    "patientLabels = ctrlDf['Arrays']\n",
    "patientLabels = patientLabels.append(caseDf['Arrays']).reset_index(drop=True)"
   ]
  },
  {
   "cell_type": "code",
   "execution_count": 3,
   "metadata": {
    "collapsed": false
   },
   "outputs": [],
   "source": [
    "#imputes median value from 7-nn for missing values ctrl group\n",
    "ctrlData = ctrlDf.drop('Arrays',axis=1)\n",
    "features = ctrlData.columns\n",
    "ctrlDataImputed = knnImp.knn_impute_few_observed(ctrlData.as_matrix(),ctrlData.isnull().as_matrix(),7)\n",
    "ctrlDf = pd.DataFrame(data = ctrlDataImputed, columns = features)"
   ]
  },
  {
   "cell_type": "code",
   "execution_count": 4,
   "metadata": {
    "collapsed": false
   },
   "outputs": [],
   "source": [
    "#imputes median value from 7-nn for missing values case group\n",
    "caseData = caseDf.drop('Arrays',axis=1)\n",
    "features = caseData.columns\n",
    "caseDataImputed = knnImp.knn_impute_few_observed(caseData.as_matrix(),caseData.isnull().as_matrix(),7)\n",
    "caseDf =pd.DataFrame(data = caseDataImputed, columns = features)"
   ]
  },
  {
   "cell_type": "code",
   "execution_count": 5,
   "metadata": {
    "collapsed": true
   },
   "outputs": [],
   "source": [
    "allPatientsKnnImputedData = pd.concat([ctrlDf,caseDf])\n",
    "#allPatientsKnnImputedData.to_csv('/Users/Daniel/Documents/Data Mining 514/HW3/allPatientsKnnImputedData.csv',low_memory=False)"
   ]
  },
  {
   "cell_type": "code",
   "execution_count": 6,
   "metadata": {
    "collapsed": true
   },
   "outputs": [],
   "source": [
    "#gets data and sets up Patients and Normal indices, X and Y for estimator and validation\n",
    "allPatientsKnnImputedData = pd.read_csv('/Users/Daniel/Documents/Data Mining 514/HW3/allPatientsKnnImputedData.csv',low_memory=False)\n",
    "P = np.linspace(0,175,num=176)#indices of normal ctrl\n",
    "N = np.linspace(176,363,num=188)#indices of case patients\n",
    "Y = allPatientsKnnImputedData['Classes']\n",
    "X = allPatientsKnnImputedData.drop('Classes',axis=1)"
   ]
  },
  {
   "cell_type": "code",
   "execution_count": 7,
   "metadata": {
    "collapsed": false
   },
   "outputs": [
    {
     "data": {
      "text/plain": [
       "0.59340659340659341"
      ]
     },
     "execution_count": 7,
     "metadata": {},
     "output_type": "execute_result"
    }
   ],
   "source": [
    "#fits estimator bottom up for 2 clusters\n",
    "estimator = AgglomerativeClustering(n_clusters=2, affinity='cosine', linkage = 'complete')\n",
    "estimator.fit(X.sub(X.mean(axis=0), axis=1))\n",
    "bottomUp2ClusterLabels = estimator.labels_\n",
    "\n",
    "#determines the ctrl and case labels\n",
    "results = abs((estimator.labels_+1)- Y.as_matrix())\n",
    "if sum(results)/len(results) > .5:\n",
    "    misclassifiedBottomUp = np.nonzero(results-1)\n",
    "    pB = np.where(estimator.labels_ ==0)\n",
    "    nB = np.where(estimator.labels_ ==1)\n",
    "else:\n",
    "    misclassifiedBottomUp = np.nonzero((results))\n",
    "    pB = np.where(estimator.labels_ ==1)\n",
    "    nB = np.where(estimator.labels_ ==0)\n",
    "max(sum(abs((estimator.labels_+1)- Y.as_matrix()))/len(Y),1-sum(abs((estimator.labels_+1)- Y.as_matrix()))/len(Y))"
   ]
  },
  {
   "cell_type": "code",
   "execution_count": null,
   "metadata": {
    "collapsed": false
   },
   "outputs": [],
   "source": [
    "TPR = len(np.intersect1d(pB[0][pB[0]<176],P))/len(P)\n",
    "FPR = 1 - len(np.intersect1d(pB[0][pB[0]<176],P))/len(P)\n",
    "print(\"The true Positie rate is %f and the False Positive rate it %f\"%(TPR,FPR) )\n",
    "print(\"The size of the clusters are %d for the positve group and %d for the negative group\"%(len(pB[0]),len(nB[0])))"
   ]
  },
  {
   "cell_type": "code",
   "execution_count": null,
   "metadata": {
    "collapsed": true
   },
   "outputs": [],
   "source": [
    "patientList = []\n",
    "for pat in patientLabels[misclassifiedBottomUp[0]]:\n",
    "    patientList.append(pat)\n",
    "print(patientList)"
   ]
  },
  {
   "cell_type": "code",
   "execution_count": null,
   "metadata": {
    "collapsed": false
   },
   "outputs": [],
   "source": [
    "patientList = []\n",
    "for pat in 'cba':\n",
    "    patientList.append(pat)\n",
    "    print(pat)\n",
    "print(patientList)"
   ]
  },
  {
   "cell_type": "code",
   "execution_count": null,
   "metadata": {
    "collapsed": false
   },
   "outputs": [],
   "source": []
  },
  {
   "cell_type": "code",
   "execution_count": null,
   "metadata": {
    "collapsed": false
   },
   "outputs": [],
   "source": [
    "#Bottom up 4 groups clustering\n",
    "estimator = AgglomerativeClustering(n_clusters=4, affinity='cosine', linkage = 'complete')\n",
    "estimator.fit(X.sub(X.mean(axis=0), axis=1))\n",
    "bottomUp4ClusterLabels = estimator.labels_\n",
    "bottomUp2ndLevelDict = {'group0':[],\n",
    "                        'group1':[],\n",
    "                        'group2':[],\n",
    "                        'group3':[]\n",
    "                       }\n",
    "bottomUp2ndLevelStats = {'group0':0,\n",
    "                        'group1':0,\n",
    "                        'group2':0,\n",
    "                        'group3':0\n",
    "                       }\n",
    "totalMisclassified4Clusters=0\n",
    "for label in np.unique(bottomUp4ClusterLabels):\n",
    "    group = 'group{0}'.format(label)\n",
    "    bottomUp2ndLevelDict[group] = X.iloc[np.where(bottomUp4ClusterLabels==label)]\n",
    "    tempAccuracy = sum(bottomUp2ndLevelDict[group].index<176)/len(bottomUp2ndLevelDict[group])\n",
    "    if tempAccuracy>.5:\n",
    "        bottomUp2ndLevelStats[group] = [len(bottomUp2ndLevelDict[group]),tempAccuracy]\n",
    "    else:\n",
    "        bottomUp2ndLevelStats[group] = [len(bottomUp2ndLevelDict[group]),1-tempAccuracy]\n",
    "    totalMisclassified4Clusters = totalMisclassified4Clusters  + bottomUp2ndLevelStats[group][0]       \n"
   ]
  },
  {
   "cell_type": "code",
   "execution_count": null,
   "metadata": {
    "collapsed": false
   },
   "outputs": [],
   "source": [
    "bottomUp2ndLevelStats"
   ]
  },
  {
   "cell_type": "code",
   "execution_count": null,
   "metadata": {
    "collapsed": false
   },
   "outputs": [],
   "source": [
    "#Bottom up 8 groups clustering\n",
    "\n",
    "estimator = AgglomerativeClustering(n_clusters=8, affinity='cosine', linkage = 'average')\n",
    "estimator.fit(X.sub(X.mean(axis=0), axis=1))\n",
    "bottomUp8ClusterLabels = estimator.labels_\n",
    "bottomUp3rdLevelDict = { 'group0':[],\n",
    "                        'group1':[],\n",
    "                        'group2':[],\n",
    "                        'group3':[],\n",
    "                        'group4':[],\n",
    "                        'group5':[],\n",
    "                        'group6':[],\n",
    "                        'group7':[]\n",
    "                       }\n",
    "bottomUp3rdLevelStats = { 'group0':0,\n",
    "                        'group1':0,\n",
    "                        'group2':0,\n",
    "                        'group3':0,\n",
    "                        'group4':0,\n",
    "                        'group5':0,\n",
    "                        'group6':0,\n",
    "                        'group7':0\n",
    "                       }\n",
    "totalMisclassified8Clusters = 0\n",
    "#get indices for each group and calcualte misclassification number and accuracy based on majority of case or ctrl in group\n",
    "for label in np.unique(bottomUp8ClusterLabels):\n",
    "    group  = 'group{0}'.format(label)\n",
    "    bottomUp3rdLevelDict[group] = X.iloc[np.where(bottomUp8ClusterLabels==label)]\n",
    "    tempAccuracy = sum(bottomUp3rdLevelDict[group].index<176)/len(bottomUp3rdLevelDict[group])\n",
    "    clusterSize = len(bottomUp3rdLevelDict[group])\n",
    "    if tempAccuracy>.5:\n",
    "        bottomUp3rdLevelStats[group] = [clusterSize,sum(bottomUp3rdLevelDict[group].index>176), tempAccuracy]\n",
    "    else:\n",
    "        bottomUp3rdLevelStats[group] = [clusterSize,sum(bottomUp3rdLevelDict[group].index<176),1-tempAccuracy]\n",
    "    totalMisclassified8Clusters = totalMisclassified8Clusters  + bottomUp3rdLevelStats[group][0]  "
   ]
  },
  {
   "cell_type": "code",
   "execution_count": null,
   "metadata": {
    "collapsed": false
   },
   "outputs": [],
   "source": [
    "bottomUp3rdLevelStats"
   ]
  },
  {
   "cell_type": "code",
   "execution_count": null,
   "metadata": {
    "collapsed": false
   },
   "outputs": [],
   "source": [
    "def new_euclidean_distances(X, Y=None, Y_norm_squared=None, squared=False): \n",
    "    return cosine_similarity(X,Y)\n",
    "\n",
    "# monkey patch (ensure cosine dist function is used)\n",
    "KMeans.euclidean_distances = new_euclidean_distances \n",
    "\n",
    "estimator = KMeans(n_clusters = 2)\n",
    "estimator.fit(X)\n",
    "max(sum(abs((estimator.labels_+1)- Y.as_matrix()))/len(Y),1-sum(abs((estimator.labels_+1)- Y.as_matrix()))/len(Y))\n",
    "results = abs((estimator.labels_+1)- Y.as_matrix())\n",
    "if sum(results)/len(results) > .5:\n",
    "    misclassifiedTopDown = np.nonzero(results-1)\n",
    "    pT = np.where(estimator.labels_ ==0)\n",
    "    nT = np.where(estimator.labels_ ==1)\n",
    "else:\n",
    "    misclassifiedTopDown = np.nonzero((results))\n",
    "    pT = np.where(estimator.labels_ ==1)\n",
    "    nT = np.where(estimator.labels_ ==0)\n",
    "patientList = []\n",
    "for pat in patientLabels[misclassifiedTopDown[0]]:\n",
    "    patientList.append(pat)\n",
    "print(\"The accuracy is %f\"%(1-len(misclassifiedTopDown[0])/364))\n",
    "print(patientList)"
   ]
  },
  {
   "cell_type": "code",
   "execution_count": null,
   "metadata": {
    "collapsed": false
   },
   "outputs": [],
   "source": [
    "TPR = len(np.intersect1d(pT[0][pT[0]<176],P))/len(P)\n",
    "FPR = 1 - len(np.intersect1d(pT[0][pT[0]<176],P))/len(P)\n",
    "print(\"The true Positie rate is %f and the False Positive rate it %f\"%(TPR,FPR) )\n",
    "print(\"The size of the clusters are %d for the positve group and %d for the negative group\"%(len(pT[0]),len(nT[0])))"
   ]
  },
  {
   "cell_type": "code",
   "execution_count": null,
   "metadata": {
    "collapsed": false
   },
   "outputs": [],
   "source": [
    "len(misclassifiedTopDown[0])"
   ]
  },
  {
   "cell_type": "code",
   "execution_count": null,
   "metadata": {
    "collapsed": false
   },
   "outputs": [],
   "source": [
    "import matplotlib_venn as v\n",
    "from matplotlib import pyplot as plt\n",
    "pBset = set(pB[0])\n",
    "pTset = set(pT[0])\n",
    "common = pBset & pTset\n",
    "v.venn2([pBset,pTset],set_labels = ('Bottom Up','TopDown'))\n",
    "plt.title('Comparison of Data Points in common classified as Case by Top Down and Bottom Up')\n",
    "plt.show()\n",
    "\n",
    "pBCorrectset = set(pB[0][pB[0]<176])\n",
    "pTCorrectset = set(pT[0][pT[0]<176])\n",
    "v.venn2([pBCorrectset,pTCorrectset],set_labels = ('Bottom Up','TopDown'))\n",
    "plt.title('Comparison of Data Points in common correctly classified as Case by Bottom Up and Top Down')\n",
    "plt.show()\n",
    "\n",
    "pBIncorrectset = set(pB[0][pB[0]>175])\n",
    "pTIncorrectset = set(pT[0][pT[0]>175])\n",
    "v.venn2([pBIncorrectset,pTIncorrectset],set_labels = ('Bottom Up','TopDown'))\n",
    "plt.title('Comparison of Data Points in common incorrectly classified as Case by Bottom Up and Top Down')\n",
    "plt.show()"
   ]
  },
  {
   "cell_type": "code",
   "execution_count": null,
   "metadata": {
    "collapsed": false
   },
   "outputs": [],
   "source": [
    "len(np.intersect1d(pB[0][pB[0]<176],P))/len(P)"
   ]
  },
  {
   "cell_type": "code",
   "execution_count": null,
   "metadata": {
    "collapsed": false
   },
   "outputs": [],
   "source": [
    "#second iteration\n",
    "group0 = np.where(estimator.labels_==0)[0]\n",
    "group1 = np.where(estimator.labels_==1)[0]\n",
    "group0X = X.iloc[group0]\n",
    "group1X = X.iloc[group1]\n",
    "estimator = KMeans(n_clusters = 2)\n",
    "estimator.fit(group0X)\n",
    "group0ClustersubsetLabels  = estimator.labels_\n",
    "estimator = KMeans(n_clusters = 2)\n",
    "estimator.fit(group1X)\n",
    "group1ClustersubsetLabels  = estimator.labels_"
   ]
  },
  {
   "cell_type": "code",
   "execution_count": null,
   "metadata": {
    "collapsed": false
   },
   "outputs": [],
   "source": [
    "group0 = np.where(group0ClustersubsetLabels==0)[0]\n",
    "group1 = np.where(group0ClustersubsetLabels==1)[0]\n",
    "group2 = np.where(group1ClustersubsetLabels==0)[0]\n",
    "group3 = np.where(group1ClustersubsetLabels==1)[0]\n",
    "\n",
    "#split into four groups\n",
    "group2level0X = group0X.iloc[group0]\n",
    "group2level1X = group0X.iloc[group1]\n",
    "group2level2X = group1X.iloc[group2]\n",
    "group2level3X = group1X.iloc[group3]\n",
    "\n",
    "topDown2ndLevelDict = {'group0':group2level0X,\n",
    "                        'group1':group2level1X,\n",
    "                        'group2':group2level2X,\n",
    "                        'group3':group2level3X\n",
    "                       }\n",
    "topDown2ndLevelStats = {'group0':0,\n",
    "                        'group1':0,\n",
    "                        'group2':0,\n",
    "                        'group3':0\n",
    "                       }\n",
    "\n",
    "\n",
    "for i in range(0,4):\n",
    "    group = 'group{0}'.format(i)\n",
    "    tempAccuracy = sum(topDown2ndLevelDict[group].index<176)/len(topDown2ndLevelDict[group])\n",
    "    clusterSize = len(topDown2ndLevelDict[group])\n",
    "    if tempAccuracy>.5:\n",
    "        topDown2ndLevelStats[group] = [clusterSize, tempAccuracy]\n",
    "    else:\n",
    "        topDown2ndLevelStats[group] = [clusterSize,1-tempAccuracy]\n",
    "topDown2ndLevelStats\n"
   ]
  },
  {
   "cell_type": "code",
   "execution_count": null,
   "metadata": {
    "collapsed": false
   },
   "outputs": [],
   "source": [
    "#estimators of the 4 nodes\n",
    "estimator = KMeans(n_clusters = 2)\n",
    "estimator.fit(group2level0X)\n",
    "group0level2ClustersubsetLabels  = estimator.labels_\n",
    "estimator = KMeans(n_clusters = 2)\n",
    "estimator.fit(group2level1X)\n",
    "group1level2ClustersubsetLabels  = estimator.labels_\n",
    "estimator = KMeans(n_clusters = 2)\n",
    "estimator.fit(group2level2X)\n",
    "group2level2ClustersubsetLabels  = estimator.labels_\n",
    "estimator = KMeans(n_clusters = 2)\n",
    "estimator.fit(group2level3X)\n",
    "group3level2ClustersubsetLabels  = estimator.labels_\n",
    "\n",
    "group0 = np.where(group0level2ClustersubsetLabels==0)[0]\n",
    "group1 = np.where(group0level2ClustersubsetLabels==1)[0]\n",
    "group2 = np.where(group1level2ClustersubsetLabels==0)[0]\n",
    "group3 = np.where(group1level2ClustersubsetLabels==1)[0]\n",
    "group4 = np.where(group2level2ClustersubsetLabels==0)[0]\n",
    "group5 = np.where(group2level2ClustersubsetLabels==1)[0]\n",
    "group6 = np.where(group3level2ClustersubsetLabels==0)[0]\n",
    "group7 = np.where(group3level2ClustersubsetLabels==1)[0]\n",
    "\n",
    "group3level0X = group2level0X.iloc[group0]\n",
    "group3level1X = group2level0X.iloc[group1]\n",
    "group3level2X = group2level1X.iloc[group2]\n",
    "group3level3X = group2level1X.iloc[group3]\n",
    "group3level4X = group2level2X.iloc[group4]\n",
    "group3level5X = group2level2X.iloc[group5]\n",
    "group3level6X = group2level3X.iloc[group6]\n",
    "group3level7X = group2level3X.iloc[group7]\n",
    "\n",
    "topDown3rdLevelDict = { 'group0':group3level0X,\n",
    "                        'group1':group3level1X,\n",
    "                        'group2':group3level2X,\n",
    "                        'group3':group3level3X,\n",
    "                        'group4':group3level4X,\n",
    "                        'group5':group3level5X,\n",
    "                        'group6':group3level6X,\n",
    "                        'group7':group3level7X\n",
    "                       }\n",
    "topDown3rdLevelStats = { 'group0':0,\n",
    "                        'group1':0,\n",
    "                        'group2':0,\n",
    "                        'group3':0,\n",
    "                        'group4':0,\n",
    "                        'group5':0,\n",
    "                        'group6':0,\n",
    "                        'group7':0\n",
    "                       }\n",
    "\n",
    "for i in range(0,8):\n",
    "    group = 'group{0}'.format(i)\n",
    "    tempAccuracy = sum(topDown3rdLevelDict[group].index<176)/len(topDown3rdLevelDict[group])\n",
    "    clusterSize = len(topDown3rdLevelDict[group])\n",
    "    if tempAccuracy>.5:\n",
    "        topDown3rdLevelStats[group] = [clusterSize,sum(topDown3rdLevelDict[group].index>176), tempAccuracy]\n",
    "    else:\n",
    "        topDown3rdLevelStats[group] = [clusterSize,sum(bottomUp3rdLevelDict[group].index<176),1-tempAccuracy]\n",
    "topDown3rdLevelStats\n"
   ]
  },
  {
   "cell_type": "code",
   "execution_count": null,
   "metadata": {
    "collapsed": false
   },
   "outputs": [],
   "source": []
  },
  {
   "cell_type": "code",
   "execution_count": null,
   "metadata": {
    "collapsed": true
   },
   "outputs": [],
   "source": []
  },
  {
   "cell_type": "code",
   "execution_count": null,
   "metadata": {
    "collapsed": true
   },
   "outputs": [],
   "source": []
  },
  {
   "cell_type": "code",
   "execution_count": null,
   "metadata": {
    "collapsed": true
   },
   "outputs": [],
   "source": []
  }
 ],
 "metadata": {
  "kernelspec": {
   "display_name": "Python 3",
   "language": "python",
   "name": "python3"
  },
  "language_info": {
   "codemirror_mode": {
    "name": "ipython",
    "version": 3
   },
   "file_extension": ".py",
   "mimetype": "text/x-python",
   "name": "python",
   "nbconvert_exporter": "python",
   "pygments_lexer": "ipython3",
   "version": "3.4.3"
  }
 },
 "nbformat": 4,
 "nbformat_minor": 1
}
